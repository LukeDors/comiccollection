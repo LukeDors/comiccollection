{
 "cells": [
  {
   "cell_type": "code",
   "execution_count": 7,
   "id": "362590a4",
   "metadata": {},
   "outputs": [
    {
     "data": {
      "text/plain": [
       "<td>1<td><a href=\"/spider-woman-1999-issue-1\">Issue #1 </a><td><a href=\"/storage/s3/spider-woman-1999/1.zip\"><i class=\"fa fa-download\"></i> <i>15.8MB</i></a><td>8 years ago<tr><td>2<td><a href=\"/spider-woman-1999-issue-2\">Issue #2 </a><td><a href=\"/storage/s3/spider-woman-1999/2.zip\"><i class=\"fa fa-download\"></i> <i>12.7MB</i></a><td>8 years ago<tr><td>3<td><a href=\"/spider-woman-1999-issue-3\">Issue #3 </a><td><a href=\"/storage/s3/spider-woman-1999/3.zip\"><i class=\"fa fa-download\"></i> <i>9.3MB</i></a><td>8 years ago<tr><td colspan=\"4\"><div id=\"M187070ScriptRootC311297\"><div id=\"M187070PreloadC311297\">Loading...</div><script>(function(){var D=new Date(),d=document,b='body',ce='createElement',ac='appendChild',st='style',ds='display',n='none',gi='getElementById',lp=d.location.protocol,wp=lp.indexOf('http')==0?lp:'https:';var i=d[ce]('iframe');i[st][ds]=n;d[gi](\"M187070ScriptRootC311297\")[ac](i);try{var iw=i.contentWindow.document;iw.open();iw.writeln(\"<ht\"+\"ml><bo\"+\"dy></bo\"+\"dy></ht\"+\"ml>\");iw.close();var c=iw[b];}\n",
       "catch(e){var iw=d;var c=d[gi](\"M187070ScriptRootC311297\");}var dv=iw[ce]('div');dv.id=\"MG_ID\";dv[st][ds]=n;dv.innerHTML=311297;c[ac](dv);var s=iw[ce]('script');s.async='async';s.defer='defer';s.charset='utf-8';s.src=wp+\"//jsc.mgid.com/i/s/isubtitles.net.311297.js?t=\"+D.getYear()+D.getMonth()+D.getUTCDate()+D.getUTCHours();c[ac](s);})();</script></div><tr><td>4<td><a href=\"/spider-woman-1999-issue-4\">Issue #4 </a><td><a href=\"/storage/s3/spider-woman-1999/4.zip\"><i class=\"fa fa-download\"></i> <i>9.7MB</i></a><td>8 years ago<tr><td>5<td><a href=\"/spider-woman-1999-issue-5\">Issue #5 </a><td><a href=\"/storage/s3/spider-woman-1999/5.zip\"><i class=\"fa fa-download\"></i> <i>11.7MB</i></a><td>8 years ago<tr><td>6<td><a href=\"/spider-woman-1999-issue-6\">Issue #6 </a><td><a href=\"/storage/s3/spider-woman-1999/6.zip\"><i class=\"fa fa-download\"></i> <i>9.3MB</i></a><td>8 years ago<tr><td>7<td><a href=\"/spider-woman-1999-issue-7\">Issue #7 </a><td><a href=\"/storage/s3/spider-woman-1999/7.zip\"><i class=\"fa fa-download\"></i> <i>12.6MB</i></a><td>8 years ago<tr><td>8<td><a href=\"/spider-woman-1999-issue-8\">Issue #8 </a><td><a href=\"/storage/s3/spider-woman-1999/8.zip\"><i class=\"fa fa-download\"></i> <i>9.4MB</i></a><td>8 years ago<tr><td>9<td><a href=\"/spider-woman-1999-issue-9\">Issue #9 </a><td><a href=\"/storage/s3/spider-woman-1999/9.zip\"><i class=\"fa fa-download\"></i> <i>11.7MB</i></a><td>8 years ago<tr><td>10<td><a href=\"/spider-woman-1999-issue-10\">Issue #10 </a><td><a href=\"/storage/s3/spider-woman-1999/10.zip\"><i class=\"fa fa-download\"></i> <i>12.6MB</i></a><td>8 years ago<tr><td>11<td><a href=\"/spider-woman-1999-issue-11\">Issue #11 </a><td><a href=\"/storage/s3/spider-woman-1999/11.zip\"><i class=\"fa fa-download\"></i> <i>13.1MB</i></a><td>8 years ago<tr><td>12<td><a href=\"/spider-woman-1999-issue-12\">Issue #12 </a><td><a href=\"/storage/s3/spider-woman-1999/12.zip\"><i class=\"fa fa-download\"></i> <i>11.2MB</i></a><td>8 years ago<tr><td>13<td><a href=\"/spider-woman-1999-issue-13\">Issue #13 </a><td><a href=\"/storage/s3/spider-woman-1999/13.zip\"><i class=\"fa fa-download\"></i> <i>11.6MB</i></a><td>8 years ago<tr><td>14<td><a href=\"/spider-woman-1999-issue-14\">Issue #14 </a><td><a href=\"/storage/s3/spider-woman-1999/14.zip\"><i class=\"fa fa-download\"></i> <i>10.5MB</i></a><td>8 years ago<tr><td>15<td><a href=\"/spider-woman-1999-issue-15\">Issue #15 </a><td><a href=\"/storage/s3/spider-woman-1999/15.zip\"><i class=\"fa fa-download\"></i> <i>11.5MB</i></a><td>8 years ago<tr><td>16<td><a href=\"/spider-woman-1999-issue-16\">Issue #16 </a><td><a href=\"/storage/s3/spider-woman-1999/16.zip\"><i class=\"fa fa-download\"></i> <i>11.5MB</i></a><td>8 years ago<tr><td>17<td><a href=\"/spider-woman-1999-issue-17\">Issue #17 </a><td><a href=\"/storage/s3/spider-woman-1999/17.zip\"><i class=\"fa fa-download\"></i> <i>11.7MB</i></a><td>8 years ago<tr><td>18<td><a href=\"/spider-woman-1999-issue-18\">Issue #18 </a><td><a href=\"/storage/s3/spider-woman-1999/18.zip\"><i class=\"fa fa-download\"></i> <i>14.8MB</i></a><td>8 years ago</td></td></td></td></tr></td></td></td></td></tr></td></td></td></td></tr></td></td></td></td></tr></td></td></td></td></tr></td></td></td></td></tr></td></td></td></td></tr></td></td></td></td></tr></td></td></td></td></tr></td></td></td></td></tr></td></td></td></td></tr></td></td></td></td></tr></td></td></td></td></tr></td></td></td></td></tr></td></td></td></td></tr></td></tr></td></td></td></td></tr></td></td></td></td></tr></td></td></td></td>"
      ]
     },
     "execution_count": 7,
     "metadata": {},
     "output_type": "execute_result"
    }
   ],
   "source": [
    "import requests\n",
    "from bs4 import BeautifulSoup\n",
    "\n",
    "resp = requests.get('https://www.zipcomic.com/spider-woman-1999')\n",
    "\n",
    "soup = BeautifulSoup(resp.text, 'html.parser')\n",
    "\n",
    "imgs = soup.find_all('tr')\n",
    "\n",
    "imgs[0].find_all('td')[0]"
   ]
  },
  {
   "cell_type": "code",
   "execution_count": null,
   "id": "95399fd3",
   "metadata": {},
   "outputs": [],
   "source": []
  },
  {
   "cell_type": "code",
   "execution_count": null,
   "id": "9d3c9b07",
   "metadata": {},
   "outputs": [],
   "source": []
  }
 ],
 "metadata": {
  "kernelspec": {
   "display_name": "base",
   "language": "python",
   "name": "python3"
  },
  "language_info": {
   "codemirror_mode": {
    "name": "ipython",
    "version": 3
   },
   "file_extension": ".py",
   "mimetype": "text/x-python",
   "name": "python",
   "nbconvert_exporter": "python",
   "pygments_lexer": "ipython3",
   "version": "3.10.9"
  }
 },
 "nbformat": 4,
 "nbformat_minor": 5
}
