{
 "cells": [
  {
   "cell_type": "code",
   "execution_count": null,
   "id": "362590a4",
   "metadata": {},
   "outputs": [],
   "source": [
    "import requests\n",
    "from bs4 import BeautifulSoup\n",
    "\n",
    "resp = requests.get('https://www.zipcomic.com/moon-knight-2014-issue-17')\n",
    "\n",
    "soup = BeautifulSoup(resp.text, 'html.parser')\n",
    "\n",
    "imgs = soup.find_all('img')\n",
    "\n",
    "imgs = [img for img in imgs if '.jpg' in img['src']]"
   ]
  },
  {
   "cell_type": "code",
   "execution_count": null,
   "id": "95399fd3",
   "metadata": {},
   "outputs": [],
   "source": []
  },
  {
   "cell_type": "code",
   "execution_count": 9,
   "id": "2aa9faee",
   "metadata": {},
   "outputs": [
    {
     "data": {
      "text/plain": [
       "[<img alt=\"Read online Moon Knight (2014) comic -  Issue #17 - 1\" class=\"img-responsive\" src=\"https://2.bp.blogspot.com/-UkGO8J_ObaA/Vnj788vzYkI/AAAAAAAAAbo/YOk4Pmht3N0/s0-Ic42/RCO001.jpg\"/>,\n",
       " <img alt=\"Read online Moon Knight (2014) comic -  Issue #17 - 2\" class=\"img-responsive\" src=\"https://2.bp.blogspot.com/-nssyQDQgqgM/Vnj78od3SLI/AAAAAAAAAbo/Ch8uU0qbYxY/s0-Ic42/RCO002.jpg\"/>,\n",
       " <img alt=\"Read online Moon Knight (2014) comic -  Issue #17 - 3\" class=\"img-responsive\" src=\"https://2.bp.blogspot.com/-g1RORZJ4lsM/Vnj79LUIWbI/AAAAAAAAAb0/2IJf3jNEZ4U/s0-Ic42/RCO003.jpg\"/>,\n",
       " <img alt=\"Read online Moon Knight (2014) comic -  Issue #17 - 4\" class=\"img-responsive\" src=\"https://2.bp.blogspot.com/-2zjcg9zuEAI/Vnj79MCbCzI/AAAAAAAAAbo/o5RQ1-BDnEk/s0-Ic42/RCO004.jpg\"/>,\n",
       " <img alt=\"Read online Moon Knight (2014) comic -  Issue #17 - 5\" class=\"img-responsive\" src=\"https://2.bp.blogspot.com/-iCKQeMMVGh4/Vnj79QSISzI/AAAAAAAAAbo/nCEEv795FAU/s0-Ic42/RCO005.jpg\"/>,\n",
       " <img alt=\"Read online Moon Knight (2014) comic -  Issue #17 - 6\" class=\"img-responsive\" src=\"https://2.bp.blogspot.com/-CWicbU4YizM/Vnj79tsUeaI/AAAAAAAAAbo/DIEJwSZYRoo/s0-Ic42/RCO006.jpg\"/>,\n",
       " <img alt=\"Read online Moon Knight (2014) comic -  Issue #17 - 7\" class=\"img-responsive\" src=\"https://2.bp.blogspot.com/-uUWy3K4N43g/Vnj791vILWI/AAAAAAAAAbo/IIrp27BK5X8/s0-Ic42/RCO007.jpg\"/>,\n",
       " <img alt=\"Read online Moon Knight (2014) comic -  Issue #17 - 8\" class=\"img-responsive\" src=\"https://2.bp.blogspot.com/-efd-NZz68Bs/Vnj792fs5dI/AAAAAAAAAbo/uJsKL4atFSE/s0-Ic42/RCO008.jpg\"/>,\n",
       " <img alt=\"Read online Moon Knight (2014) comic -  Issue #17 - 9\" class=\"img-responsive\" src=\"https://2.bp.blogspot.com/-yhrQIve00qI/Vnj7-D1E8QI/AAAAAAAAAbo/xPe15nEEY3s/s0-Ic42/RCO009.jpg\"/>,\n",
       " <img alt=\"Read online Moon Knight (2014) comic -  Issue #17 - 10\" class=\"img-responsive\" src=\"https://2.bp.blogspot.com/-nVaHZNLj5c0/Vnj7-SIA8nI/AAAAAAAAAbo/Tt4iaTsUlrM/s0-Ic42/RCO010.jpg\"/>,\n",
       " <img alt=\"Read online Moon Knight (2014) comic -  Issue #17 - 11\" class=\"img-responsive\" src=\"https://2.bp.blogspot.com/-Dt99kM0uXlM/Vnj7-d8HU3I/AAAAAAAAAb4/jhEXGEeBHr4/s0-Ic42/RCO011.jpg\"/>,\n",
       " <img alt=\"Read online Moon Knight (2014) comic -  Issue #17 - 12\" class=\"img-responsive\" src=\"https://2.bp.blogspot.com/-bcT6Uh6is3M/Vnj7-20OMSI/AAAAAAAAAbo/PFFpVHOx3Dc/s0-Ic42/RCO012.jpg\"/>,\n",
       " <img alt=\"Read online Moon Knight (2014) comic -  Issue #17 - 13\" class=\"img-responsive\" src=\"https://2.bp.blogspot.com/-Zr_kmemWwu0/Vnj7-2ZIuKI/AAAAAAAAAbo/Jb0d2S9vDWU/s0-Ic42/RCO013.jpg\"/>,\n",
       " <img alt=\"Read online Moon Knight (2014) comic -  Issue #17 - 14\" class=\"img-responsive\" src=\"https://2.bp.blogspot.com/-VDdqcUrhYSo/Vnj7_KJkfLI/AAAAAAAAAbo/c8Qb7zab-tA/s0-Ic42/RCO014.jpg\"/>,\n",
       " <img alt=\"Read online Moon Knight (2014) comic -  Issue #17 - 15\" class=\"img-responsive\" src=\"https://2.bp.blogspot.com/-Un5y_Fs4A7Q/Vnj7_uxM2yI/AAAAAAAAAbo/X2mJfajtm9U/s0-Ic42/RCO015.jpg\"/>,\n",
       " <img alt=\"Read online Moon Knight (2014) comic -  Issue #17 - 16\" class=\"img-responsive\" src=\"https://2.bp.blogspot.com/-NCVD6yab2Cc/Vnj7_rmnnlI/AAAAAAAAAbo/kPe0z9GOxjA/s0-Ic42/RCO016.jpg\"/>,\n",
       " <img alt=\"Read online Moon Knight (2014) comic -  Issue #17 - 17\" class=\"img-responsive\" src=\"https://2.bp.blogspot.com/-k55aua21Phw/Vnj7_5aWn8I/AAAAAAAAAbo/ad1-zM_PNgk/s0-Ic42/RCO017.jpg\"/>,\n",
       " <img alt=\"Read online Moon Knight (2014) comic -  Issue #17 - 18\" class=\"img-responsive\" src=\"https://2.bp.blogspot.com/-S4yPMghCw5E/Vnj8ABiZQaI/AAAAAAAAAbo/qeqdJ8avxY0/s0-Ic42/RCO018.jpg\"/>,\n",
       " <img alt=\"Read online Moon Knight (2014) comic -  Issue #17 - 19\" class=\"img-responsive\" src=\"https://2.bp.blogspot.com/-FFBliXTH-IM/Vnj8AFjluoI/AAAAAAAAAbo/G34L0noCCZU/s0-Ic42/RCO019.jpg\"/>,\n",
       " <img alt=\"Read online Moon Knight (2014) comic -  Issue #17 - 20\" class=\"img-responsive\" src=\"https://2.bp.blogspot.com/-5oou0qJaYpc/Vnj8Aa8FQqI/AAAAAAAAAbo/oHqBmOaphWk/s0-Ic42/RCO020.jpg\"/>,\n",
       " <img alt=\"Read online Moon Knight (2014) comic -  Issue #17 - 21\" class=\"img-responsive\" src=\"https://2.bp.blogspot.com/-oxCks_k7dIc/Vnj8BEl2ImI/AAAAAAAAAbo/pX2UIqLF7QQ/s0-Ic42/RCO021.jpg\"/>,\n",
       " <img alt=\"Read online Moon Knight (2014) comic -  Issue #17 - 22\" class=\"img-responsive\" src=\"https://2.bp.blogspot.com/-PZeEgWpAMYE/Vnj8BNGbFmI/AAAAAAAAAbo/-wW1CXQWe88/s0-Ic42/RCO022.jpg\"/>,\n",
       " <img alt=\"Read online Moon Knight (2014) comic -  Issue #17 - 23\" class=\"img-responsive\" src=\"https://2.bp.blogspot.com/-EELqX3mjje0/Vnj8BCM2lQI/AAAAAAAAAbo/jfgEWoI03iM/s0-Ic42/RCO023.jpg\"/>]"
      ]
     },
     "execution_count": 9,
     "metadata": {},
     "output_type": "execute_result"
    }
   ],
   "source": [
    "imgs"
   ]
  },
  {
   "cell_type": "code",
   "execution_count": null,
   "id": "9d3c9b07",
   "metadata": {},
   "outputs": [],
   "source": []
  }
 ],
 "metadata": {
  "kernelspec": {
   "display_name": "base",
   "language": "python",
   "name": "python3"
  },
  "language_info": {
   "codemirror_mode": {
    "name": "ipython",
    "version": 3
   },
   "file_extension": ".py",
   "mimetype": "text/x-python",
   "name": "python",
   "nbconvert_exporter": "python",
   "pygments_lexer": "ipython3",
   "version": "3.10.9"
  }
 },
 "nbformat": 4,
 "nbformat_minor": 5
}
