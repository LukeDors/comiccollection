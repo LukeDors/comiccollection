{
 "cells": [
  {
   "cell_type": "code",
   "execution_count": null,
   "id": "362590a4",
   "metadata": {},
   "outputs": [],
   "source": [
    "import requests\n",
    "from bs4 import BeautifulSoup\n",
    "\n",
    "resp = requests.get('https://www.zipcomic.com/moon-knight-2014-issue-17')\n",
    "\n",
    "soup = BeautifulSoup(resp.text, 'html.parser')\n",
    "\n",
    "imgs = soup.find_all('img')\n",
    "\n",
    "imgs = [img for img in imgs if '.jpg' in img['src']]"
   ]
  },
  {
   "cell_type": "code",
   "execution_count": null,
   "id": "95399fd3",
   "metadata": {},
   "outputs": [],
   "source": []
  },
  {
   "cell_type": "code",
   "execution_count": 1,
   "id": "2aa9faee",
   "metadata": {},
   "outputs": [
    {
     "name": "stdout",
     "output_type": "stream",
     "text": [
      "Requirement already satisfied: bokeh in c:\\users\\luke\\anaconda3\\lib\\site-packages (2.4.3)\n",
      "Requirement already satisfied: Jinja2>=2.9 in c:\\users\\luke\\anaconda3\\lib\\site-packages (from bokeh) (3.1.2)\n",
      "Requirement already satisfied: numpy>=1.11.3 in c:\\users\\luke\\anaconda3\\lib\\site-packages (from bokeh) (1.26.0)\n",
      "Requirement already satisfied: packaging>=16.8 in c:\\users\\luke\\anaconda3\\lib\\site-packages (from bokeh) (22.0)\n",
      "Requirement already satisfied: pillow>=7.1.0 in c:\\users\\luke\\anaconda3\\lib\\site-packages (from bokeh) (9.4.0)\n",
      "Requirement already satisfied: PyYAML>=3.10 in c:\\users\\luke\\anaconda3\\lib\\site-packages (from bokeh) (6.0)\n",
      "Requirement already satisfied: tornado>=5.1 in c:\\users\\luke\\anaconda3\\lib\\site-packages (from bokeh) (6.1)\n",
      "Requirement already satisfied: typing-extensions>=3.10.0 in c:\\users\\luke\\anaconda3\\lib\\site-packages (from bokeh) (4.12.2)\n",
      "Requirement already satisfied: MarkupSafe>=2.0 in c:\\users\\luke\\anaconda3\\lib\\site-packages (from Jinja2>=2.9->bokeh) (2.1.1)\n"
     ]
    },
    {
     "name": "stderr",
     "output_type": "stream",
     "text": [
      "\n",
      "[notice] A new release of pip is available: 24.0 -> 25.1.1\n",
      "[notice] To update, run: python.exe -m pip install --upgrade pip\n"
     ]
    }
   ],
   "source": [
    "!pip install bokeh"
   ]
  },
  {
   "cell_type": "code",
   "execution_count": null,
   "id": "9d3c9b07",
   "metadata": {},
   "outputs": [],
   "source": []
  }
 ],
 "metadata": {
  "kernelspec": {
   "display_name": "base",
   "language": "python",
   "name": "python3"
  },
  "language_info": {
   "codemirror_mode": {
    "name": "ipython",
    "version": 3
   },
   "file_extension": ".py",
   "mimetype": "text/x-python",
   "name": "python",
   "nbconvert_exporter": "python",
   "pygments_lexer": "ipython3",
   "version": "3.10.9"
  }
 },
 "nbformat": 4,
 "nbformat_minor": 5
}
